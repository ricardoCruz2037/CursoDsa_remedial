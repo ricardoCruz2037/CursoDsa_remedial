{
 "cells": [
  {
   "cell_type": "markdown",
   "id": "f9fb390b-ddd6-411b-af65-8d3ed93b4e92",
   "metadata": {},
   "source": [
    "# 2. Búsqueda binaria\n",
    "\n",
    "Con un conjunto de datos ordenado, podemos aprovechar el orden para realizar una búsqueda que es más eficiente que ir elemento por elemento.\n",
    "\n",
    "La búsqueda binaria requiere un conjunto de datos ordenados. Luego, realizamos los siguientes pasos:\n",
    "\n",
    "- Verificamos el valor medio del conjunto de datos.\n",
    "    - Si este valor coincide con nuestro objetivo, podemos devolver el índice.\n",
    "- Si el valor medio es menor que nuestro objetivo.\n",
    "    - Comenzamos en el paso 1 usando la mitad derecha de la lista.\n",
    "- Si el valor medio es mayor que nuestro objetivo.\n",
    "    - Comenzamos en el paso 1 usando la mitad izquierda de la lista.\n",
    "\n",
    "Eventualmente nos quedamos sin valores en la lista o encontramos el valor objetivo."
   ]
  },
  {
   "cell_type": "markdown",
   "id": "40916757-45d8-4413-ac44-32fffd82ae68",
   "metadata": {},
   "source": [
    "## 2.1 Complejidad temporal de la búsqueda binaria\n",
    "\n",
    "En cada iteración, cortamos la lista a la mitad. La complejidad temporal es $\\mathcal{O}(log N)$.\n",
    "\n",
    "Una lista ordenada de 64 elementos requerirá como máximo $\\log_2(64) = 6 $ comparaciones.\n",
    "\n",
    "\n",
    "<img src=\"Binary_search.png\"  width=\"500\" >\n"
   ]
  },
  {
   "cell_type": "markdown",
   "id": "e42584c9-2f29-467a-a8a2-05f774cc9235",
   "metadata": {},
   "source": [
    "## 2.1 Binary search de forma iterativa.\n",
    "\n",
    "1. Define `binary_search()` ([Abrir binary_search_sandbox.py](binary_search.py)) con `sorted_list` y `target` como parametros.\n",
    "2. Inicializa `left_pointer` a cero y `right_pointer` igual a la longitud de `sorted_list`.\n",
    "3. Crea una funcion `while` que verifique que `left_pointer` sea menor a `right_pointer` y dentro:\n",
    "    1. Calcula el indice medio `mid_idx` de `sorted_list` y el valor medio `mid_val` de `sorted_list`.\n",
    "    2. Utiliza condicionales para verificar cualquiera de los siguientes 3 casos:\n",
    "        1. Si  `mid_val` es igual a  `target` entonces regresa `mid_idx`.\n",
    "        2. Si `target` es menor a `mid_val` entonces actualiza `right_pointer` igual a `mid_idx`.\n",
    "        3. Si `target` es mayor que `mid_val` entonces actualiza `left_pointer` igual a `mid_idx + 1`.\n",
    "4. Fuera del ciclo `while` regtresa `\"valor no en la lista\"` en caso de que `target` no este en la lista.\n",
    "\n",
    "\n",
    "Despues de completar las actividades de arriba debes verificar tu avance corriendo el test correspodiente ejecutando la siguiente linea de codigo en una celda de codigo.\n",
    "\n",
    "`!python3 -m unittest Test_2_binary_search.py`"
   ]
  },
  {
   "cell_type": "code",
   "execution_count": 1,
   "id": "8fd134d5-2277-431d-ad4e-5e5b58ba93c2",
   "metadata": {},
   "outputs": [
    {
     "name": "stdout",
     "output_type": "stream",
     "text": [
      "The file start_from.txt was not found.\n",
      "Running from students' code\n"
     ]
    },
    {
     "name": "stderr",
     "output_type": "stream",
     "text": [
      ".......\n",
      "----------------------------------------------------------------------\n",
      "Ran 7 tests in 0.000s\n",
      "\n",
      "OK\n"
     ]
    }
   ],
   "source": [
    "!python3 -m unittest Test_2_binary_search.py"
   ]
  },
  {
   "cell_type": "markdown",
   "id": "c87593c6-f7bd-4bd0-9275-2e459845c664",
   "metadata": {},
   "source": [
    "# 3. Problema de logica: balas de cañon\n",
    "\n",
    "Tienes 9 balas de cañón, y una de ellas es diferente (puede ser más pesada o más ligera que las demás). Tienes una balanza de dos platos y el objetivo es identificar cuál es la bala diferente utilizando la menor cantidad de pesadas posible.\n",
    "\n",
    "1. Codifica `find_ball()` el cual implemente el algoritmo que encuentre cual bala es la diferente he imprima el numero de \"pesadas\" que utilice.\n",
    "2. Con tus conociminetos de matematicas (😂😂) encuentra una ecuacion que prediga el numero de pesadas dado un numero de balas $N$. Escribe la eacuacion en Latex y explica tu razonamiento."
   ]
  },
  {
   "cell_type": "code",
   "execution_count": 2,
   "id": "3823004d-67c8-459c-85d6-b5f7eb76ec63",
   "metadata": {},
   "outputs": [
    {
     "name": "stdout",
     "output_type": "stream",
     "text": [
      "[1, 1, 0, 1, 1, 1, 1, 1, 1]\n",
      "La bola 2 es distinta, se pesaron 4 veces\n"
     ]
    }
   ],
   "source": [
    "def find_cannonball(list_9b):\n",
    "    times_weighed = 0\n",
    "    group_1 = [list_9b[0], list_9b[1], list_9b[2]]\n",
    "    group_2 = [list_9b[3], list_9b[4], list_9b[5]]\n",
    "    group_3 = [list_9b[6], list_9b[7], list_9b[8]]\n",
    "\n",
    "    group_1_w = sum(group_1)\n",
    "    group_2_w = sum(group_2)\n",
    "    group_3_w = sum(group_3)\n",
    "\n",
    "    group_diff = None\n",
    "    normal_ball_w = None\n",
    "    \n",
    "    left_pointer = 0\n",
    "    right_pointer = len(list_9b)\n",
    "    \n",
    "    if (group_1_w == group_2_w):\n",
    "        times_weighed += 1\n",
    "        left_pointer = 6\n",
    "        right_pointer = 8\n",
    "        normal_ball_w = group_1[0]\n",
    "    elif(group_1_w == group_3_w):\n",
    "        times_weighed += 1\n",
    "        left_pointer = 3\n",
    "        right_pointer = 5\n",
    "        normal_ball_w = group_1[0]\n",
    "    else:\n",
    "        times_weighed += 1 #No se si quitarlo\n",
    "        left_pointer = 0\n",
    "        right_pointer = 2\n",
    "        normal_ball_w = group_2[0]\n",
    "\n",
    "    different_ball_i = None\n",
    "\n",
    "    for i in range(left_pointer, right_pointer+1):\n",
    "        times_weighed += 1\n",
    "        if(list_9b[i] != normal_ball_w):\n",
    "            different_ball_i = i\n",
    "            break  \n",
    "\n",
    "    return [different_ball_i, times_weighed]\n",
    "\n",
    "# Prueba\n",
    "list_9b = [1, 1, 0, 1, 1, 1, 1, 1, 1] \n",
    "print(list_9b)\n",
    "print(f\"La bola {find_cannonball(list_9b)[0]} es distinta, se pesaron {find_cannonball(list_9b)[1]} veces\")"
   ]
  },
  {
   "cell_type": "markdown",
   "id": "3b70c7e8-ae51-48ee-9830-ef884311c998",
   "metadata": {},
   "source": [
    "#### Análisis\n",
    "Al considerar el peor de los casos, el número total de pesadas requeridas no solo depende de dividir las balas en tercios y comparar estos, sino también de verificar las balas en el último grupo reducido (lo que se realiza en el bucle `for` en el código).  \n",
    "Este proceso puede requerir hasta $ \\frac{n}{3} $ comparaciones adicionales en la última iteración para identificar la bala distinta. Por lo tanto, el número de pesadas en el peor de los casos puede aproximarse mediante la siguiente fórmula:\n",
    "$$\n",
    "    \\text{pesadas} = \\log_3(n) + \\frac{n}{3}\n",
    "$$\n",
    "\n",
    "donde:\n",
    "- **Primer término $ \\log_3(n) $**: Calcula las pesadas necesarias para reducir las balas al último grupo pequeño.\n",
    "\n",
    "- **Segundo término $ \\frac{n}{3} $**: Representa el número máximo de comparaciones requeridas en el último grupo, si es que necesitamos revisar cada bala del grupo final en el peor de los casos.\n",
    "\n",
    "Este modelo da una estimación más precisa en situaciones donde se deben revisar cada una de las balas en el grupo final.\n"
   ]
  },
  {
   "cell_type": "markdown",
   "id": "824c1b10-5a9e-4a3b-b53a-61dbbe7be493",
   "metadata": {},
   "source": [
    "#### Nueva observación:\n",
    "Cuando se tiene una cantidad grande de bolas, como 900000, la estrategia de dividir en tercios y luego continuar dividiendo sigue siendo eficiente $ W = \\log_3(n) + \\log_3(\\frac{n}{3}) $, pero el proceso se puede aplicar recursivamente. En cada paso, se divide el conjunto en tres, y luego se repite el mismo procedimiento con el grupo restante, hasta que se encuentra la bala distinta. \n",
    "Este es un proceso de \"búsqueda recursiva\" aplicada a divisiones en tercios.\n",
    "\n",
    "#### Otra observación\n",
    "\n",
    "La fórmula para el número de pesadas en el peor de los casos, al considerar la división recursiva podría parecerse a:\n",
    "$\n",
    "    \\text{pesadas} = \\lceil \\log_3(n) \\rceil + \\lceil \\log_3(\\frac{n}{3}) \\rceil + \\lceil \\log_3(\\frac{n}{9}) \\rceil + \\dots\n",
    "$\n",
    "\n",
    "Para simplificar, se puede aproximar el número de pesadas como:  \n",
    "$\n",
    "    \\text{pesadas} \\approx \\log_3(n \\cdot \\frac{n}{3} \\cdot \\frac{n}{9} \\cdot \\text{...})\n",
    "$"
   ]
  }
 ],
 "metadata": {
  "kernelspec": {
   "display_name": "Python 3 (ipykernel)",
   "language": "python",
   "name": "python3"
  },
  "language_info": {
   "codemirror_mode": {
    "name": "ipython",
    "version": 3
   },
   "file_extension": ".py",
   "mimetype": "text/x-python",
   "name": "python",
   "nbconvert_exporter": "python",
   "pygments_lexer": "ipython3",
   "version": "3.12.7"
  }
 },
 "nbformat": 4,
 "nbformat_minor": 5
}
